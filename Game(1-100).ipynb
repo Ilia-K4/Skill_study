{
 "cells": [
  {
   "cell_type": "code",
   "execution_count": 46,
   "metadata": {
    "scrolled": true
   },
   "outputs": [
    {
     "name": "stdout",
     "output_type": "stream",
     "text": [
      "Игра 'Угадай число'\n",
      "\n",
      "Компьютер задумал число от 1 до 100, а задача программы: отгадать его за наименьшее количество попыток.\n",
      "\n",
      "Возможно это 50\n",
      "Возможно это 75\n",
      "Возможно это 88\n",
      "Возможно это 82\n",
      "Точняк! 82 и было загадано!\n"
     ]
    }
   ],
   "source": [
    "import random                                            # Подключаем модуль random\n",
    "\n",
    "print(\"Игра 'Угадай число'\\n\")\n",
    "print(\"Компьютер задумал число от 1 до 100, а задача программы: отгадать его за наименьшее количество попыток.\\n\")\n",
    "\n",
    "def game_core_v3(num):\n",
    "    number = random.randint (1, 100)                    # Компьютер загадывает числа от 1 до 100\n",
    "    low = 1\n",
    "    high = 100\n",
    "    guess = 50\n",
    "    while guess != number:                              # Используем алгоритм бинарного поиска\n",
    "        guess = (low+high)//2\n",
    "        print(\"Возможно это\", guess)\n",
    "        if guess > number:\n",
    "            high = guess\n",
    "        elif guess < number:\n",
    "            low = guess + 1\n",
    " \n",
    "    print(\"Точняк!\", guess, \"и было загадано!\")\n",
    "game_core_v3(num)"
   ]
  },
  {
   "cell_type": "code",
   "execution_count": null,
   "metadata": {},
   "outputs": [],
   "source": []
  },
  {
   "cell_type": "code",
   "execution_count": 26,
   "metadata": {},
   "outputs": [],
   "source": []
  },
  {
   "cell_type": "code",
   "execution_count": null,
   "metadata": {},
   "outputs": [],
   "source": []
  },
  {
   "cell_type": "code",
   "execution_count": null,
   "metadata": {},
   "outputs": [],
   "source": []
  }
 ],
 "metadata": {
  "kernelspec": {
   "display_name": "Python 3",
   "language": "python",
   "name": "python3"
  },
  "language_info": {
   "codemirror_mode": {
    "name": "ipython",
    "version": 3
   },
   "file_extension": ".py",
   "mimetype": "text/x-python",
   "name": "python",
   "nbconvert_exporter": "python",
   "pygments_lexer": "ipython3",
   "version": "3.8.3"
  }
 },
 "nbformat": 4,
 "nbformat_minor": 4
}
